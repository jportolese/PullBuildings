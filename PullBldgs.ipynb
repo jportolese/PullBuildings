{
 "cells": [
  {
   "cell_type": "markdown",
   "id": "51d3d4aa",
   "metadata": {},
   "source": [
    "# Interactive Building Footprint Download\n",
    "### Uses Leafmap library to allow the user to draw a polygon on the map and download building footprints within the area of interest from the BING repository"
   ]
  },
  {
   "cell_type": "code",
   "execution_count": 1,
   "id": "ad9d29e8",
   "metadata": {},
   "outputs": [],
   "source": [
    "import pandas as pd\n",
    "import geopandas as gpd\n",
    "import shapely.geometry\n",
    "import mercantile\n",
    "from tqdm import tqdm\n",
    "import os\n",
    "import tempfile\n",
    "import leafmap\n",
    "import json"
   ]
  },
  {
   "cell_type": "markdown",
   "id": "d96eb6a4",
   "metadata": {},
   "source": [
    "### Open a map canvas for drawing"
   ]
  },
  {
   "cell_type": "code",
   "execution_count": 2,
   "id": "3fc7fad1",
   "metadata": {},
   "outputs": [
    {
     "data": {
      "application/vnd.jupyter.widget-view+json": {
       "model_id": "7a1a0b661cc848d9aa919915efc392c9",
       "version_major": 2,
       "version_minor": 0
      },
      "text/plain": [
       "Map(center=[39.828175, -98.5795], controls=(ZoomControl(options=['position', 'zoom_in_text', 'zoom_in_title', …"
      ]
     },
     "metadata": {},
     "output_type": "display_data"
    }
   ],
   "source": [
    "# Create an interactive map\n",
    "m = leafmap.Map()\n",
    "m.add_basemap(\"HYBRID\")\n",
    "m.set_center(lon = -98.5795,  lat=39.828175, zoom = 4)\n",
    "m"
   ]
  },
  {
   "cell_type": "markdown",
   "id": "c777b040",
   "metadata": {},
   "source": [
    "### Save the Area of Interest as a geojson file"
   ]
  },
  {
   "cell_type": "code",
   "execution_count": 5,
   "id": "3e1ef021",
   "metadata": {},
   "outputs": [],
   "source": [
    "m.save_draw_features(\"draw.geojson\")\n",
    "\n",
    "# Path to your GeoJSON file\n",
    "geojson_file = \"draw.geojson\"\n",
    "\n",
    "# Read the GeoJSON file\n",
    "with open(geojson_file, \"r\") as f:\n",
    "    geojson_data = json.load(f)\n",
    "\n",
    "# Extract the geometry information\n",
    "if geojson_data[\"type\"] == \"FeatureCollection\":\n",
    "    # Assume we want the first feature for simplicity\n",
    "    feature = geojson_data[\"features\"][0]  # Adjust index as needed\n",
    "    geometry = feature[\"geometry\"]\n",
    "elif geojson_data[\"type\"] == \"Feature\":\n",
    "    geometry = geojson_data[\"geometry\"]\n",
    "else:\n",
    "    raise ValueError(\"Unsupported GeoJSON type\")\n",
    "\n",
    "# Structure the result as requested\n",
    "aoi_geom = {\n",
    "    \"coordinates\": geometry[\"coordinates\"],\n",
    "    \"type\": geometry[\"type\"]\n",
    "}\n",
    "\n",
    "# Store the results of interactive map work in aoi_geom dictionary\n",
    "aoi_shape = shapely.geometry.shape(aoi_geom)\n",
    "# Pull the min max value into bounds\n",
    "minx, miny, maxx, maxy = aoi_shape.bounds\n",
    "\n",
    "# Name the footprint file for later use\n",
    "output_fn = \"test.geojson\"\n"
   ]
  },
  {
   "cell_type": "markdown",
   "id": "d58dad09",
   "metadata": {},
   "source": [
    "### Determine the tiles that overlap the AOI"
   ]
  },
  {
   "cell_type": "code",
   "execution_count": 6,
   "id": "11b41cb8",
   "metadata": {},
   "outputs": [
    {
     "name": "stdout",
     "output_type": "stream",
     "text": [
      "The input area spans 1 tiles: [23103311]\n"
     ]
    }
   ],
   "source": [
    "quad_keys = set()\n",
    "for tile in list(mercantile.tiles(minx, miny, maxx, maxy, zooms=9)):\n",
    "    quad_keys.add(int(mercantile.quadkey(tile)))\n",
    "quad_keys = list(quad_keys)\n",
    "print(f\"The input area spans {len(quad_keys)} tiles: {quad_keys}\")"
   ]
  },
  {
   "cell_type": "markdown",
   "id": "a56f23e6",
   "metadata": {},
   "source": [
    "### Pull the buildings based on the AOI"
   ]
  },
  {
   "cell_type": "code",
   "execution_count": 7,
   "id": "1d87a3ee",
   "metadata": {},
   "outputs": [
    {
     "name": "stderr",
     "output_type": "stream",
     "text": [
      "100%|████████████████████████████████████████████████████████████████████████████████████| 1/1 [00:07<00:00,  7.66s/it]\n"
     ]
    }
   ],
   "source": [
    "# Read a CSV file from a URL that contains metadata for a global building dataset\n",
    "df = pd.read_csv(\n",
    "    \"https://minedbuildings.z5.web.core.windows.net/global-buildings/dataset-links.csv\"\n",
    ")\n",
    "\n",
    "# Initialize an index counter and an empty GeoDataFrame to store the combined results\n",
    "idx = 0\n",
    "combined_gdf = gpd.GeoDataFrame()\n",
    "\n",
    "# Create a temporary directory to store downloaded GeoJSON files\n",
    "with tempfile.TemporaryDirectory() as tmpdir:\n",
    "    # List to store temporary filenames\n",
    "    tmp_fns = []\n",
    "    \n",
    "    # Loop through a list of quad keys (tiles) to process each one\n",
    "    for quad_key in tqdm(quad_keys):  # tqdm is used to show a progress bar\n",
    "        # Filter rows in the dataset matching the current quad key\n",
    "        rows = df[df[\"QuadKey\"] == quad_key]\n",
    "        \n",
    "        # Case 1: Exactly one matching row (unique QuadKey in dataset)\n",
    "        if rows.shape[0] == 1:\n",
    "            url = rows.iloc[0][\"Url\"]  # Extract the URL of the GeoJSON file\n",
    "            \n",
    "            # Download and parse the GeoJSON file into a DataFrame\n",
    "            df2 = pd.read_json(url, lines=True)\n",
    "            df2[\"geometry\"] = df2[\"geometry\"].apply(shapely.geometry.shape)  # Convert geometry strings to shapes\n",
    "            \n",
    "            # Convert the DataFrame to a GeoDataFrame with WGS84 (EPSG:4326) coordinate reference system\n",
    "            gdf = gpd.GeoDataFrame(df2, crs=4326)\n",
    "            # Define a temporary filename to save the GeoJSON file\n",
    "            fn = os.path.join(tmpdir, f\"{quad_key}.geojson\")\n",
    "            tmp_fns.append(fn)  # Add the filename to the list\n",
    "            \n",
    "            # Save the GeoDataFrame to a GeoJSON file if it doesn't already exist\n",
    "            if not os.path.exists(fn):\n",
    "                gdf.to_file(fn, driver=\"GeoJSON\")\n",
    "        \n",
    "        # Case 2: Multiple rows found for the same QuadKey (duplicate entries in the dataset)\n",
    "        elif rows.shape[0] > 1:\n",
    "            print(f\"Multiple rows found for QuadKey: {quad_key}\")\n",
    "            # Loop through each row to process each URL\n",
    "            for i in range(rows.shape[0]):\n",
    "                url = rows.iloc[i][\"Url\"]  # Extract the URL\n",
    "                \n",
    "                # Download and parse the GeoJSON file\n",
    "                df2 = pd.read_json(url, lines=True)\n",
    "                df2[\"geometry\"] = df2[\"geometry\"].apply(shapely.geometry.shape)  # Convert geometry strings to shapes\n",
    "                \n",
    "                # Convert to a GeoDataFrame\n",
    "                gdf = gpd.GeoDataFrame(df2, crs=4326)\n",
    "                # Define a unique filename for each duplicate entry\n",
    "                fn = os.path.join(tmpdir, f\"{quad_key}_{i}.geojson\")\n",
    "                tmp_fns.append(fn)  # Add the filename to the list\n",
    "                \n",
    "                # Save the GeoDataFrame to a GeoJSON file if it doesn't already exist\n",
    "                if not os.path.exists(fn):\n",
    "                    gdf.to_file(fn, driver=\"GeoJSON\")\n",
    "        \n",
    "        # Case 3: No rows found for the current QuadKey (error handling)\n",
    "        else:\n",
    "            raise ValueError(f\"QuadKey not found in dataset: {quad_key}\")\n",
    "\n",
    "    # Merge all downloaded GeoJSON files into a single GeoDataFrame\n",
    "    for fn in tmp_fns:\n",
    "        # Read each GeoJSON file into a GeoDataFrame\n",
    "        gdf = gpd.read_file(fn)\n",
    "        # Filter geometries that fall within the area of interest (AOI)\n",
    "        gdf = gdf[gdf.geometry.within(aoi_shape)]\n",
    "        # Assign unique IDs to each geometry, incrementing the index counter\n",
    "        gdf['id'] = range(idx, idx + len(gdf))\n",
    "        idx += len(gdf)  # Update the index counter\n",
    "        # Append the filtered GeoDataFrame to the combined GeoDataFrame\n",
    "        combined_gdf = pd.concat([combined_gdf, gdf], ignore_index=True)"
   ]
  },
  {
   "cell_type": "markdown",
   "id": "c3e74701",
   "metadata": {},
   "source": [
    "### Write the output to geojson file"
   ]
  },
  {
   "cell_type": "code",
   "execution_count": 8,
   "id": "a6bf7209",
   "metadata": {},
   "outputs": [],
   "source": [
    "combined_gdf = combined_gdf.to_crs('EPSG:4326')\n",
    "combined_gdf.to_file(output_fn, driver='GeoJSON')"
   ]
  },
  {
   "cell_type": "code",
   "execution_count": 9,
   "id": "d8851ace",
   "metadata": {},
   "outputs": [
    {
     "data": {
      "application/vnd.jupyter.widget-view+json": {
       "model_id": "7a1a0b661cc848d9aa919915efc392c9",
       "version_major": 2,
       "version_minor": 0
      },
      "text/plain": [
       "Map(bottom=209980.0, center=[33.86157820443925, -101.55835298512457], controls=(ZoomControl(options=['position…"
      ]
     },
     "metadata": {},
     "output_type": "display_data"
    }
   ],
   "source": [
    "in_geojson = \"test.geojson\"\n",
    "m.add_geojson(in_geojson, layer_name=\"Footprints\")\n",
    "m"
   ]
  },
  {
   "cell_type": "code",
   "execution_count": null,
   "id": "ea25c6a3",
   "metadata": {},
   "outputs": [],
   "source": []
  },
  {
   "cell_type": "code",
   "execution_count": null,
   "id": "c413dc7d",
   "metadata": {},
   "outputs": [],
   "source": []
  }
 ],
 "metadata": {
  "kernelspec": {
   "display_name": "Python 3 (ipykernel)",
   "language": "python",
   "name": "python3"
  },
  "language_info": {
   "codemirror_mode": {
    "name": "ipython",
    "version": 3
   },
   "file_extension": ".py",
   "mimetype": "text/x-python",
   "name": "python",
   "nbconvert_exporter": "python",
   "pygments_lexer": "ipython3",
   "version": "3.9.18"
  }
 },
 "nbformat": 4,
 "nbformat_minor": 5
}
